{
  "nbformat": 4,
  "nbformat_minor": 0,
  "metadata": {
    "colab": {
      "provenance": [],
      "authorship_tag": "ABX9TyOl42DN9UzjKNXSzejXp8KP",
      "include_colab_link": true
    },
    "kernelspec": {
      "name": "python3",
      "display_name": "Python 3"
    },
    "language_info": {
      "name": "python"
    }
  },
  "cells": [
    {
      "cell_type": "markdown",
      "metadata": {
        "id": "view-in-github",
        "colab_type": "text"
      },
      "source": [
        "<a href=\"https://colab.research.google.com/github/livvialta/python-college/blob/main/for_while.ipynb\" target=\"_parent\"><img src=\"https://colab.research.google.com/assets/colab-badge.svg\" alt=\"Open In Colab\"/></a>"
      ]
    },
    {
      "cell_type": "markdown",
      "source": [
        "## **Loop** Structures (While and For) - Exercises"
      ],
      "metadata": {
        "id": "rNNsjTbES2s7"
      }
    },
    {
      "cell_type": "markdown",
      "source": [
        "Ask the user to enter two values ​​(first and last).\n",
        "Count between these numbers.\n",
        "If the last one is smaller than the first count down.\n",
        "If the last number is greater than the first count up."
      ],
      "metadata": {
        "id": "fYXjG42JNhpj"
      }
    },
    {
      "cell_type": "code",
      "execution_count": null,
      "metadata": {
        "id": "N3REr6IRNc5j"
      },
      "outputs": [],
      "source": [
        "firstNumber = int(input())\n",
        "lastNumber = int(input())\n",
        "\n",
        "if (firstNumber > lastNumber):\n",
        "    for num in range(lastNumber, firstNumber + 1):\n",
        "        print(num)\n",
        "elif (lastNumber > firstNumber):\n",
        "    for num in range(firstNumber, lastNumber + 1):\n",
        "        print(num)\n",
        "#when the first and last number are equal to each other, we also need to add an else to handle it.\n",
        "\n"
      ]
    },
    {
      "cell_type": "markdown",
      "source": [
        "Read an integer value (accept only values ​​between 1 and 10) and write the table from 1 to 10 of the read value."
      ],
      "metadata": {
        "id": "nPA3rAg4S1uJ"
      }
    },
    {
      "cell_type": "code",
      "source": [
        "value = int(input('Enter with a value between 1 and 10'))\n",
        "cont = 0\n",
        "\n",
        "if value > 0 and value <= 10:\n",
        "        for num in range(1,11):\n",
        "            mult = value * num\n",
        "            print(f'{value} x {num} = {mult}')\n",
        "            #print(value, 'x', num, '=', mult )\n",
        "   "
      ],
      "metadata": {
        "id": "vlP2pK--TLmP"
      },
      "execution_count": null,
      "outputs": []
    },
    {
      "cell_type": "markdown",
      "source": [
        "Make a program that asks the user to guess a number between 1 and 100.\n",
        "As long as the number entered is not equal to a secret number defined by the program,\n",
        "the program should ask the user to try again. When the user hits the number,\n",
        "the program should print \"Congratulations, you got it right!\".\n",
        "Use the library below for random numbers:\n",
        "random import\n",
        "numero_secreto = random.randint(1, 100)"
      ],
      "metadata": {
        "id": "_QfeJFYuXgFp"
      }
    },
    {
      "cell_type": "code",
      "source": [
        "import random\n",
        "\n",
        "secretNumber = random.randint(1,100)\n",
        "\n",
        "while True:\n",
        "    guessNumber = int(input())\n",
        "\n",
        "    if guessNumber == secretNumber:\n",
        "        print('Congratulations, you guessed it right.')\n",
        "        break\n",
        "print(secretNumber)"
      ],
      "metadata": {
        "id": "As-HSQ9rXh9H"
      },
      "execution_count": null,
      "outputs": []
    },
    {
      "cell_type": "markdown",
      "source": [
        "Make a program that asks the user to type a sequence of integers.\n",
        "The program should print the sum of the numbers entered, but stop the sum if the user types a negative number."
      ],
      "metadata": {
        "id": "5N6qjwXiXiWD"
      }
    },
    {
      "cell_type": "code",
      "source": [
        "soma = 0\n",
        "\n",
        "while True:\n",
        "    value = int(input())\n",
        "    if value < 0:\n",
        "        break\n",
        "    elif value > 0:\n",
        "        soma += value\n",
        "        print(soma)"
      ],
      "metadata": {
        "id": "jfpe673wXkx1"
      },
      "execution_count": null,
      "outputs": []
    },
    {
      "cell_type": "markdown",
      "source": [
        "Write a program that asks the user to enter the number of times he wants to toss a coin.\n",
        "\n",
        "The program should simulate flipping a coin and print the result of each flip (heads or tails).\n",
        "\n",
        "At the end, the program should print the total number of heads and the total number of tails.\n",
        "\n",
        "Use the library below for random numbers:\n",
        "\n",
        "```\n",
        "import random\n",
        "\n",
        "resultado = random.randint(0, 1)\n",
        "```\n",
        "\n"
      ],
      "metadata": {
        "id": "q5yrs1RdXlGf"
      }
    },
    {
      "cell_type": "code",
      "source": [
        "import random \n",
        "n_head = 0\n",
        "n_tail = 0\n",
        "\n",
        "play_Coin = int(input())\n",
        "\n",
        "for i in range(play_Coin):\n",
        "    result = random.randint(0, 1) #0 para cara e 1 para coroa\n",
        "    if result == 0:\n",
        "        print('head')\n",
        "        n_head += 1\n",
        "    elif result == 1:\n",
        "        print('tail')\n",
        "        n_tail += 1\n",
        "print(f'The number of the coins with the flip end it up in head: {n_head}')\n",
        "print(f'The number of the coins with the flip end it up in tail: {n_tail}')\n",
        "#print('The number of the coin with the flip end it up in head: %i' % (n_head)) - Jeito de fazer\n",
        "#print('The number of the coins with the flip end it up in tail:',n_tail) - Outro jeito de fazer"
      ],
      "metadata": {
        "id": "P2Oy7MV2XlvJ"
      },
      "execution_count": null,
      "outputs": []
    },
    {
      "cell_type": "markdown",
      "source": [
        "Write a program that simulates the voting machine.\n",
        "\n",
        "The screen to be displayed should look like this:\n",
        "\n",
        "The options are:\n",
        "\n",
        "1. Candidate Jair Rodrigues\n",
        "2. Candidate Carlos Luz\n",
        "3. Candidate Neves Rocha\n",
        "4. Null\n",
        "5. white\n",
        "\n",
        "Enter your vote:\n",
        "\n",
        "The program should read the voters' votes and, when the number 6 is entered, present the following information:\n",
        "\n",
        "a) The number of votes for each candidate;\n",
        "\n",
        "b) The percentage of invalid votes;\n",
        "\n",
        "c) The percentage of white votes;\n",
        "\n",
        "d) The winning candidate.\n"
      ],
      "metadata": {
        "id": "WL5KRNReXmI1"
      }
    },
    {
      "cell_type": "code",
      "source": [
        "print('Brazilian voting machine')\n",
        "print('----------------')\n",
        "\n",
        "print('Vote in your candidate by their number. Please type the number.')\n",
        "\n",
        "print('1- Candidato Jair Rodrigues')\n",
        "print('2- Candidato Carlos Luz')\n",
        "print('3- Candidato Neves Rocha')\n",
        "print('4- Nulo')\n",
        "print('5- Branco')\n",
        "\n",
        "print('----------------')\n",
        "print('After computing everyone votes, please type 6 for more information about the actual eletion.')\n",
        "\n",
        "candidateOne = 0\n",
        "candidateTwo = 0\n",
        "candidateThree = 0\n",
        "null = 0\n",
        "white = 0\n",
        "votes = []\n",
        "\n",
        "while True:\n",
        "    vote = int(input())\n",
        "    votes.append(vote)\n",
        "\n",
        "    if vote == 6:\n",
        "        \n",
        "        for i in votes:\n",
        "            if i == 1:\n",
        "                candidateOne +=1\n",
        "            elif i ==2:\n",
        "                candidateTwo +=1\n",
        "            elif i == 3:\n",
        "                candidateThree +=1\n",
        "            elif i == 4:\n",
        "                null +=1\n",
        "            elif i == 5:\n",
        "                white +=1\n",
        "\n",
        "        print('Candidate 1:',candidateOne)\n",
        "        print('Candidate 2:',candidateTwo)\n",
        "        print('Candidate 3:',candidateThree)\n",
        "        print('Null:', null)\n",
        "        print('White vote:', white)\n",
        "\n",
        "        total_votes = (candidateOne + candidateTwo + candidateThree + null + white)\n",
        "    \n",
        "        porc_null = ((null / total_votes) * 100) * 100\n",
        "        porc_white = ((white / total_votes) * 100) * 100\n",
        "        print(f'Percentage of null votes: {porc_null}%')\n",
        "        print(f'Percentage of white votes: {porc_white}%')\n",
        "\n",
        "        if candidateOne > candidateTwo and candidateOne > candidateThree:\n",
        "            print('Jair Rodrigues wins')\n",
        "        elif candidateTwo > candidateOne and candidateTwo > candidateThree:\n",
        "            print('Carlos Luz wins')\n",
        "        elif candidateThree > candidateOne and candidateThree > candidateTwo:\n",
        "            print('Neves Rocha wins')\n",
        "        else:\n",
        "            print(\"Today's election is undetermined.\")\n",
        "            \n",
        "        break"
      ],
      "metadata": {
        "id": "HwmEXW5jXoqT"
      },
      "execution_count": null,
      "outputs": []
    },
    {
      "cell_type": "markdown",
      "source": [
        "Make an algorithm in python capable of calculating the profitability of savings,\n",
        "this algorithm must receive as input the initial value that the user is willing to store.\n",
        "As output, the program should print the amount for 12 months on the screen month by month\n",
        "applied at a rate of 0.5% per month of return.\n",
        "\n",
        "The formula for the amount (M) of a financial investment is given by:\n",
        "\n",
        "M = P * (1 + i)^n\n",
        "\n",
        "where:\n",
        "\n",
        "P is the initial (or principal) capital\n",
        "i is the applied interest rate (in decimal form) - divide the given value by 100\n",
        "n is the number of time periods the money will be invested."
      ],
      "metadata": {
        "id": "vNqlPXrWXo93"
      }
    },
    {
      "cell_type": "code",
      "source": [
        "initialValue = float(input())\n",
        "rate = 0.5 / 100 # convert the monthly interest rate from percentage to decimal\n",
        "months = 12\n",
        "for time in range(1,months+1):\n",
        "    m = initialValue * (1 + rate) ** time\n",
        "    print(m)"
      ],
      "metadata": {
        "id": "W6eYXwB0Xsxr"
      },
      "execution_count": null,
      "outputs": []
    },
    {
      "cell_type": "markdown",
      "source": [
        "Make a program that shows the factorial of a number provided by the user."
      ],
      "metadata": {
        "id": "lWbzc_SCXtKV"
      }
    },
    {
      "cell_type": "code",
      "source": [
        "number = int(input(\"Enter with the value to calculate the factorial: \\n\"))\n",
        "fatorial = 1\n",
        "\n",
        "if number >= 0:\n",
        "    \n",
        "    for i in range(1, number + 1):\n",
        "        fatorial *= i\n",
        "    print(\"The factorial of\", number, \"is:\", fatorial)"
      ],
      "metadata": {
        "id": "cUgIdEwoXuE3"
      },
      "execution_count": null,
      "outputs": []
    }
  ]
}